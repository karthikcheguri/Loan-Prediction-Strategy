{
  "nbformat": 4,
  "nbformat_minor": 0,
  "metadata": {
    "colab": {
      "private_outputs": true,
      "provenance": []
    },
    "kernelspec": {
      "name": "python3",
      "display_name": "Python 3"
    },
    "language_info": {
      "name": "python"
    }
  },
  "cells": [
    {
      "cell_type": "markdown",
      "source": [
        "## ***Required Libraries***"
      ],
      "metadata": {
        "id": "CcragwJcd6Z_"
      }
    },
    {
      "cell_type": "code",
      "source": [
        "import pandas as pd\n",
        "import numpy as np\n",
        "from sklearn.model_selection import train_test_split\n",
        "from sklearn.preprocessing import StandardScaler\n",
        "from sklearn.ensemble import RandomForestClassifier\n",
        "import plotly.express as px\n",
        "import matplotlib.pyplot as plt"
      ],
      "metadata": {
        "collapsed": true,
        "id": "VmsbpBY1h2YK"
      },
      "execution_count": null,
      "outputs": []
    },
    {
      "cell_type": "markdown",
      "source": [
        "***To Known the features and dropping the not required features***"
      ],
      "metadata": {
        "id": "ZNDw8QEBe3JB"
      }
    },
    {
      "cell_type": "code",
      "source": [
        "df = pd.read_csv('loan_prediction.csv')\n",
        "print(df.head())\n",
        "df = df.drop('Loan_ID', axis=1)"
      ],
      "metadata": {
        "id": "UHCum45AogHa"
      },
      "execution_count": null,
      "outputs": []
    },
    {
      "cell_type": "markdown",
      "source": [
        "***DATA ANALYSIS***"
      ],
      "metadata": {
        "id": "umSTt1nJfSGm"
      }
    },
    {
      "cell_type": "code",
      "source": [
        "df.isnull().sum()"
      ],
      "metadata": {
        "collapsed": true,
        "id": "OUKCwRWAeX4h"
      },
      "execution_count": null,
      "outputs": []
    },
    {
      "cell_type": "markdown",
      "source": [],
      "metadata": {
        "id": "7AoRkdq4gXiq"
      }
    },
    {
      "cell_type": "markdown",
      "source": [
        "***The data has missing values in some of the categorical columns and some numerical columns. Let’s have a look at the descriptive statistics of the dataset before filling in the missing values:***"
      ],
      "metadata": {
        "id": "OMIwuinnfrZa"
      }
    },
    {
      "cell_type": "code",
      "source": [
        "print(df.describe())"
      ],
      "metadata": {
        "id": "fQuG7524feqW"
      },
      "execution_count": null,
      "outputs": []
    },
    {
      "cell_type": "markdown",
      "source": [
        "***Now let’s fill in the missing values. In categorical columns, we can fill in missing values with the mode of each column. The mode represents the value that appears most often in the column and is an appropriate choice when dealing with categorical data***"
      ],
      "metadata": {
        "id": "wh-t7Kimfz7b"
      }
    },
    {
      "cell_type": "code",
      "source": [
        "df['Gender'].fillna(df['Gender'].mode()[0], inplace=True)\n",
        "df['Married'].fillna(df['Married'].mode()[0], inplace=True)\n",
        "df['Dependents'].fillna(df['Dependents'].mode()[0], inplace=True)\n",
        "df['Self_Employed'].fillna(df['Self_Employed'].mode()[0], inplace=True)"
      ],
      "metadata": {
        "id": "pm4aCIJDgcXc"
      },
      "execution_count": null,
      "outputs": []
    },
    {
      "cell_type": "code",
      "source": [
        "df['LoanAmount'].fillna(df['LoanAmount'].median(), inplace=True)\n",
        "df['Loan_Amount_Term'].fillna(df['Loan_Amount_Term'].mode()[0], inplace=True)\n",
        "df['Credit_History'].fillna(df['Credit_History'].mode()[0], inplace=True)"
      ],
      "metadata": {
        "id": "HHIhHLMcgtkF"
      },
      "execution_count": null,
      "outputs": []
    },
    {
      "cell_type": "code",
      "source": [
        "import plotly.express as px\n",
        "plt.figure(figsize=(10, 5))\n",
        "loan_status_count = df['Loan_Status'].value_counts()\n",
        "fig_loan_status = px.pie(loan_status_count,\n",
        "                         names=loan_status_count.index,\n",
        "                         title='Loan Approval Status')\n",
        "fig_loan_status.show()"
      ],
      "metadata": {
        "id": "mPH5lC-Rg6Vl"
      },
      "execution_count": null,
      "outputs": []
    },
    {
      "cell_type": "code",
      "source": [
        "gender_count = df['Gender'].value_counts()\n",
        "fig_gender = px.bar(gender_count,\n",
        "                    x=gender_count.index,\n",
        "                    y=gender_count.values,\n",
        "                    title='Gender Distribution')\n",
        "fig_gender.show()"
      ],
      "metadata": {
        "id": "z-DCvOdHg6x9"
      },
      "execution_count": null,
      "outputs": []
    },
    {
      "cell_type": "code",
      "source": [
        "married_count = df['Married'].value_counts()\n",
        "fig_married = px.bar(married_count,\n",
        "                     x=married_count.index,\n",
        "                     y=married_count.values,\n",
        "                     title='Marital Status Distribution')\n",
        "fig_married.show()"
      ],
      "metadata": {
        "id": "MrmHbM7OkoiS"
      },
      "execution_count": null,
      "outputs": []
    },
    {
      "cell_type": "code",
      "source": [
        "education_count = df['Education'].value_counts()\n",
        "fig_education = px.bar(education_count,\n",
        "                       x=education_count.index,\n",
        "                       y=education_count.values,\n",
        "                       title='Education Distribution')\n",
        "fig_education.show()"
      ],
      "metadata": {
        "id": "EFIwADUSkogc"
      },
      "execution_count": null,
      "outputs": []
    },
    {
      "cell_type": "code",
      "source": [
        "fig_applicant_income = px.histogram(df, x='ApplicantIncome',\n",
        "                                    title='Applicant Income Distribution')\n",
        "fig_applicant_income.show()"
      ],
      "metadata": {
        "id": "kzkFsiK-koPE"
      },
      "execution_count": null,
      "outputs": []
    },
    {
      "cell_type": "code",
      "source": [
        "fig_income = px.box(df, x='Loan_Status',\n",
        "                    y='ApplicantIncome',\n",
        "                    color=\"Loan_Status\",\n",
        "                    title='Loan_Status vs ApplicantIncome')\n",
        "fig_income.show()"
      ],
      "metadata": {
        "id": "hwWUdZknkoNR"
      },
      "execution_count": null,
      "outputs": []
    },
    {
      "cell_type": "code",
      "source": [
        "# Calculate the IQR\n",
        "Q1 = df['CoapplicantIncome'].quantile(0.25)\n",
        "Q3 = df['CoapplicantIncome'].quantile(0.75)\n",
        "IQR = Q3 - Q1\n",
        "\n",
        "# Define the lower and upper bounds for outliers\n",
        "lower_bound = Q1 - 1.5 * IQR\n",
        "upper_bound = Q3 + 1.5 * IQR\n",
        "\n",
        "# Remove outliers\n",
        "df = df[(df['CoapplicantIncome'] >= lower_bound) & (df['CoapplicantIncome'] <= upper_bound)]"
      ],
      "metadata": {
        "id": "DcTVjkwClIla"
      },
      "execution_count": null,
      "outputs": []
    },
    {
      "cell_type": "code",
      "source": [
        "fig_loan_amount = px.box(df, x='Loan_Status',\n",
        "                         y='LoanAmount',\n",
        "                         color=\"Loan_Status\",\n",
        "                         title='Loan_Status vs LoanAmount')\n",
        "fig_loan_amount.show()"
      ],
      "metadata": {
        "id": "drlGiejUlIXg"
      },
      "execution_count": null,
      "outputs": []
    },
    {
      "cell_type": "code",
      "source": [
        "fig_credit_history = px.histogram(df, x='Credit_History', color='Loan_Status',\n",
        "                                  barmode='group',\n",
        "                                  title='Loan_Status vs Credit_His')\n",
        "fig_credit_history.show()"
      ],
      "metadata": {
        "id": "yIHWlecGlIVm"
      },
      "execution_count": null,
      "outputs": []
    },
    {
      "cell_type": "code",
      "source": [
        "fig_property_area = px.histogram(df, x='Property_Area', color='Loan_Status',\n",
        "                                 barmode='group',\n",
        "                                title='Loan_Status vs Property_Area')\n",
        "fig_property_area.show()"
      ],
      "metadata": {
        "collapsed": true,
        "id": "QDdg2Nozlq6f"
      },
      "execution_count": null,
      "outputs": []
    },
    {
      "cell_type": "code",
      "source": [
        "\n",
        "cat_cols = ['Gender', 'Married', 'Dependents', 'Education', 'Self_Employed', 'Property_Area']\n",
        "df = pd.get_dummies(df, columns=cat_cols)\n",
        "\n",
        "# Split the dataset into features (X) and target (y)\n",
        "X = df.drop('Loan_Status', axis=1)\n",
        "y = df['Loan_Status']\n",
        "\n",
        "# Split the data into training and testing sets\n",
        "X_train, X_test, y_train, y_test = train_test_split(X, y, test_size=0.2, random_state=42)\n",
        "\n",
        "# Scale the numerical columns using StandardScaler\n",
        "scaler = StandardScaler()\n",
        "numerical_cols = ['ApplicantIncome', 'CoapplicantIncome', 'LoanAmount', 'Loan_Amount_Term', 'Credit_History']\n",
        "X_train[numerical_cols] = scaler.fit_transform(X_train[numerical_cols])\n",
        "X_test[numerical_cols] = scaler.transform(X_test[numerical_cols])\n",
        "\n",
        "from sklearn.svm import SVC\n",
        "model = SVC(random_state=42)\n",
        "model.fit(X_train, y_train)"
      ],
      "metadata": {
        "id": "vQd43URplru-"
      },
      "execution_count": null,
      "outputs": []
    },
    {
      "cell_type": "code",
      "source": [
        "y_pred = model.predict(X_test)\n",
        "print(y_pred)"
      ],
      "metadata": {
        "id": "XpafCf8nl8N0"
      },
      "execution_count": null,
      "outputs": []
    },
    {
      "cell_type": "code",
      "source": [
        "X_test_df = pd.DataFrame(X_test, columns=X_test.columns)\n",
        "\n",
        "# Add the predicted values to X_test_df\n",
        "X_test_df['Loan_Status_Predicted'] = y_pred\n",
        "print(X_test_df.head())"
      ],
      "metadata": {
        "id": "13hVq33_l8L_"
      },
      "execution_count": null,
      "outputs": []
    },
    {
      "cell_type": "code",
      "source": [
        "from sklearn.linear_model import LogisticRegression\n",
        "Logreg=LogisticRegression()\n",
        "model1=Logreg.fit(X_train, y_train)\n",
        "Pred1=model1.predict(X_test)\n",
        "from sklearn.metrics import classification_report\n",
        "print(classification_report(y_test, Pred1))"
      ],
      "metadata": {
        "id": "0p_gzfUHl8H0"
      },
      "execution_count": null,
      "outputs": []
    },
    {
      "cell_type": "code",
      "source": [
        "from sklearn.metrics import accuracy_score\n",
        "accuracy_score(y_test, Pred1)"
      ],
      "metadata": {
        "id": "dSTBLotbl8F2"
      },
      "execution_count": null,
      "outputs": []
    },
    {
      "cell_type": "code",
      "source": [
        "RF_new=RandomForestClassifier(n_estimators=12,max_features='sqrt', random_state=0)\n",
        "Model5=RF_new.fit(X_train, y_train)\n",
        "Pred5=Model5.predict(X_test)\n",
        "accuracy_score(y_test, Pred5)"
      ],
      "metadata": {
        "id": "fuIw3pbEnBUM"
      },
      "execution_count": null,
      "outputs": []
    }
  ]
}